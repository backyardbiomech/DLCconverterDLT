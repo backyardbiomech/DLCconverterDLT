{
 "cells": [
  {
   "attachments": {},
   "cell_type": "markdown",
   "metadata": {},
   "source": [
    "## Example analysis notebook\n",
    "Just some example code to automate analysis on all files in a folder using tools in this repo.\n",
    "The example script below is written assuming you have two cameras, with all videos in the same folder. Videos from one camera start with `cam1` and videos from the other start with `cam2`, with exactly the same remaining file names.\n",
    "That folder should also contain the `DLTcoefs.csv` file, and must include `DLTcoefs` in the file name.\n",
    "As written, the second code cell runs `deeplabcut.analyze_videos` on all videos in that folder. If they are already analyzed, that step will be skipped (or you can comment out that line)\n",
    "It will also create labeled videos for each video.\n",
    "\n",
    "Because these files are not (yet) pip installable:\n",
    "1. Clone the github repo to a folder on your computer. DLC should be installed on the computer.\n",
    "2. Run the notebook in jupyter using the python kernel in your DLC env.\n",
    "3. Change the entries in the next cell.\n",
    "4. Run both code cells.\n",
    "5. Enjoy the results.\n",
    "\n",
    "Please cite the Argus paper if you use this code because this depends heavily on that repository."
   ]
  },
  {
   "cell_type": "code",
   "execution_count": null,
   "metadata": {},
   "outputs": [],
   "source": [
    "# ANALYZE AND RECONSTRUCT IN A FOLDER\n",
    "like=0.85\n",
    "usefiltered = True # True or False\n",
    "#set your path to config\n",
    "config = r\"C:\\Users\\...\\config.yaml\"\n",
    "\n",
    "#set the path to the folder you want to analyze that contains all videos\n",
    "folderpath = r\"C:\\Users\\...\\videos\"\n",
    "\n",
    "# set the video type\n",
    "videotype = 'avi'"
   ]
  },
  {
   "cell_type": "code",
   "execution_count": null,
   "metadata": {},
   "outputs": [],
   "source": [
    "# Don't change anything below here unless you want to change settings\n",
    "import deeplabcut as dlc\n",
    "from pathlib import Path\n",
    "import dlt2dlclabels as dtod\n",
    "import dlc2dlt as dlctod\n",
    "import tools\n",
    "\n",
    "# find cam1 vids\n",
    "cam1vids = list(Path(folderpath).glob(f\"*cam1*.{videotype}\"))\n",
    "dlt = list(Path(folderpath).glob(\"*DLTcoefs*\"))[0]\n",
    "\n",
    "# use DLC functions to get scorer part of file names\n",
    "cfg = dlc.auxiliaryfunctions.read_config(config)\n",
    "\n",
    "# analyze with DLC\n",
    "scorer = dlc.analyze_videos(config, [folderpath], videotype=videotype, gputouse=0, save_as_csv=True)\n",
    "\n",
    "if usefiltered:\n",
    "    dlc.filterpredictions(config, [folderpath], videotype=videotype, save_as_csv=True)\n",
    "\n",
    "# make a labled video (can comment out if not needed or change settings)\n",
    "dlc.create_labeled_video(config, [folderpath], videotype=videotype, filtered = usefiltered, draw_skeleton=True)\n",
    "\n",
    "# convert back to dlt format and triangulate\n",
    "for c1 in cam1vids:\n",
    "    opath = str(c1.parent / c1.stem[5:]) + f\"_DLC2DLT_iter{cfg['iteration']}\"\n",
    "    c2 = Path(str(c1).replace(\"cam1\", \"cam2\"))\n",
    "    if not c2.is_file():\n",
    "        print(f\"{c2.name} cannot be found, check to make sure it is named precisely like camera 1\")\n",
    "        continue\n",
    "    # get dlc tracks for each video...need dlcscorer\n",
    "    if usefiltered:\n",
    "        c1data = str(c1.parent / c1.stem) + scorer + \"_filtered.h5\"\n",
    "        c2data = str(c2.parent / c2.stem) + scorer + \"_filtered.h5\"\n",
    "    else:\n",
    "        c1data = str(c1.parent / c1.stem) + scorer + \".h5\"\n",
    "        c2data = str(c2.parent / c2.stem) + scorer + \".h5\"\n",
    "    \n",
    "    #convert dlc tracks to dlt format\n",
    "    dlctod.dlc2dlt(config, opath, [c1data, c2data], flipy=False, offsets = [0,0], like=like, videotype='.avi')\n",
    "    \n",
    "    #triangulate the points to make xyzpts files for each trial\n",
    "    tools.triangulate(opath + \"-xypts.csv\", dlt, flipy=False, profpath=None)"
   ]
  }
 ],
 "metadata": {
  "language_info": {
   "name": "python"
  },
  "orig_nbformat": 4
 },
 "nbformat": 4,
 "nbformat_minor": 2
}
